{
 "cells": [
  {
   "cell_type": "code",
   "execution_count": null,
   "metadata": {},
   "outputs": [],
   "source": [
    "    def get_category_type(self, row):\n",
    "        try:\n",
    "            categories_list = row['categories']\n",
    "        except:\n",
    "            categories_list = row['venue.categories']\n",
    "\n",
    "        if len(categories_list) == 0:\n",
    "            return None\n",
    "        else:\n",
    "            return categories_list[0]['name']\n",
    "\n",
    "    def getDfFoursquareNearbyVenues(self, limit=500, radius=1000):\n",
    "        lat = self.madrid_lat_long[0]\n",
    "        lng = self.madrid_lat_long[1]\n",
    "        url = 'https://api.foursquare.com/v2/venues/explore'\n",
    "        params = dict(\n",
    "            client_id='Q0PPOJTVQYJHGKB3VDY0FHAE221XVEYZEKI2AY4BSGXXR2IM',\n",
    "            client_secret='JBVYOWC44RZQDVCWWIXVSYULYY4PRGWESQBBH54SKHO2XI4L',\n",
    "            v='20200405',\n",
    "            ll='%s,%s' % (lat, lng),\n",
    "            radius='%s' % (radius),\n",
    "            limit=limit)\n",
    "        resp = requests.get(url=url, params=params)\n",
    "        data = json.loads(resp.text)\n",
    "        venues = data['response']['groups'][0]['items']\n",
    "        nearby_venues = pd.json_normalize(venues)  # flatten JSON\n",
    "        print('Found %s nearby venues at %s,%s' % (len(nearby_venues.index), lat, lng))\n",
    "\n",
    "        # filter columns\n",
    "        filtered_columns = ['venue.name', 'venue.categories', 'venue.location.lat', 'venue.location.lng']\n",
    "        if (len(nearby_venues.index) > 0):\n",
    "            nearby_venues = nearby_venues.loc[:, filtered_columns]\n",
    "            # filter the category for each row\n",
    "            nearby_venues['venue.categories'] = nearby_venues.apply(self.get_category_type, axis=1)\n",
    "            # clean columns\n",
    "            nearby_venues.columns = [col.split(\".\")[-1] for col in nearby_venues.columns]\n",
    "        return nearby_venues\n",
    "\n",
    "    def venue_suggestion(self):\n",
    "        # venues near the restaurant lat-long defined:\n",
    "        df_venues = self.getDfFoursquareNearbyVenues()\n",
    "        venue_options = ['Plaza', 'Art Museum', 'Monument / Landmark', 'Art Gallery', 'Church', 'Palace', 'Opera House',\n",
    "                         'Historic Site', 'Theater', 'Movie Theater', 'Indie Movie Theater', 'Garden']\n",
    "        self.df_venue_options = df_venues[df_venues['categories'].isin(venue_options)].reset_index()\n",
    "        if len(self.df_venue_options) > 2:\n",
    "            return messagebox.showinfo('Suggestion:',\n",
    "                                       f\"Nearby you can visit a {self.df_venue_options['categories'][0].upper()} called {self.df_venue_options['name'][0]} \"\n",
    "                                       f\"and a {self.df_venue_options['categories'][1].upper()} called {self.df_venue_options['name'][1]}!\")\n",
    "        elif len(self.df_venue_options) > 1:\n",
    "            return messagebox.showinfo('Suggestion:',\n",
    "                                       f\"Nearby you can visit a {self.df_venue_options['categories'][0].upper()} called {self.df_venue_options['name'][0]}!\")\n",
    "        else:\n",
    "            return messagebox.showinfo('Suggestion:', 'There is no tourist attraction available.')"
   ]
  }
 ],
 "metadata": {
  "kernelspec": {
   "display_name": "Python [conda env:project_gpu]",
   "language": "python",
   "name": "conda-env-project_gpu-py"
  },
  "language_info": {
   "codemirror_mode": {
    "name": "ipython",
    "version": 3
   },
   "file_extension": ".py",
   "mimetype": "text/x-python",
   "name": "python",
   "nbconvert_exporter": "python",
   "pygments_lexer": "ipython3",
   "version": "3.7.6"
  }
 },
 "nbformat": 4,
 "nbformat_minor": 4
}
